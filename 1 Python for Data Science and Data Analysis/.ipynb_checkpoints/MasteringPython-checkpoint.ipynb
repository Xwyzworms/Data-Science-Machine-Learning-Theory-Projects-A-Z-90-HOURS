{
 "cells": [
  {
   "cell_type": "code",
   "execution_count": 13,
   "id": "periodic-burke",
   "metadata": {},
   "outputs": [
    {
     "data": {
      "text/plain": [
       "[4, 5, 5, 6, 7, 23]"
      ]
     },
     "execution_count": 13,
     "metadata": {},
     "output_type": "execute_result"
    }
   ],
   "source": [
    "def findMinima(L : int, startIndx : int):\n",
    "    \"\"\"\n",
    "    Find A minimun start from index 'x'\n",
    "    \"\"\"\n",
    "    \n",
    "    ans = L[startIndx]\n",
    "    idx = startIndx\n",
    "    \n",
    "    for i in range(startIndx, len(L)):\n",
    "        if(ans > L[i]):\n",
    "            ans = L[i]\n",
    "            idx = i\n",
    "    \n",
    "    return ans,idx\n",
    "\n",
    "def swapVal(L : int , val1 : int , val2: int):\n",
    "    \"\"\"\n",
    "    Swapping 2 Values Using it index\n",
    "    \"\"\"\n",
    "    \n",
    "    if (L[val1] > L[val2]):\n",
    "        temp = L[val1]\n",
    "        L[val1] = L[val2]\n",
    "        L[val2] = temp \n",
    "    return L\n",
    "\n",
    "def sortList(L : int):\n",
    "    \"\"\"\n",
    "    Sorting A List ascendingly\n",
    "    \"\"\"\n",
    "    curIndx = 0\n",
    "    for i in range(len(L)):\n",
    "        ans,minIdx = findMinima(L,curIndx)\n",
    "        L = swapVal(L,curIndx,minIdx)\n",
    "        curIndx += 1\n",
    "    \n",
    "    return L\n",
    "exList = [5,23,4,5,6,7]\n",
    "\n",
    "findMinima(exList,0)\n",
    "sortList(exList)"
   ]
  },
  {
   "cell_type": "code",
   "execution_count": 14,
   "id": "offensive-grass",
   "metadata": {},
   "outputs": [],
   "source": [
    "sortList??"
   ]
  },
  {
   "cell_type": "code",
   "execution_count": 40,
   "id": "uniform-intellectual",
   "metadata": {},
   "outputs": [
    {
     "name": "stdout",
     "output_type": "stream",
     "text": [
      "How are you\n",
      "o\n",
      "hell are you\n",
      "H eo\n",
      "ho the hell are you\n"
     ]
    }
   ],
   "source": [
    "strSample = \"How are you and who the hell are you?\"\n",
    "# Cara bacanya mudah kok\n",
    "print(strSample[:11]) # Dari index awal sampe 10 [ 0 - 10]\n",
    "print(strSample[-3]) # Dari index paling akhir mundur 3 langkah (0,-1,-2)\n",
    "print(strSample[-13: -1]) # Dari indexp paling akhir mundur 13 langkah lalu maju sampai index -1\n",
    "print(strSample[0:12:3]) # Ini mah lompat\n",
    "print(strSample[-20:-1]) # sama kek yang -13 : -1\n"
   ]
  },
  {
   "cell_type": "markdown",
   "id": "married-contemporary",
   "metadata": {},
   "source": [
    "# Data Structures"
   ]
  },
  {
   "cell_type": "code",
   "execution_count": 5,
   "id": "peaceful-junction",
   "metadata": {},
   "outputs": [
    {
     "name": "stdout",
     "output_type": "stream",
     "text": [
      "Variable       Type     Data/Info\n",
      "---------------------------------\n",
      "dictExample    dict     n=2\n",
      "listExample    list     n=5\n",
      "setExample     set      {1, 2, 324, 12, 123, 412}\n",
      "tupleExample   tuple    n=5\n"
     ]
    }
   ],
   "source": [
    "listExample = [1,3,4,'Woy',3]\n",
    "tupleExample = (1,3,4,'231','1')\n",
    "setExample = {12,324,123,412,12,12,1,2}\n",
    "dictExample = {12:\"twelve\",\"32\":'das'}\n",
    "%whos"
   ]
  },
  {
   "cell_type": "code",
   "execution_count": 6,
   "id": "bearing-serum",
   "metadata": {},
   "outputs": [
    {
     "name": "stdout",
     "output_type": "stream",
     "text": [
      "The type of L is  <class 'list'>\n",
      "The type of T is  <class 'tuple'>\n",
      "The type of S is  <class 'set'>\n",
      "The type of D is  <class 'dict'>\n"
     ]
    }
   ],
   "source": [
    "print(\"The type of L is \", type(listExample))\n",
    "print(\"The type of T is \", type(tupleExample))\n",
    "print(\"The type of S is \", type(setExample))\n",
    "print(\"The type of D is \", type(dictExample))"
   ]
  },
  {
   "cell_type": "code",
   "execution_count": 8,
   "id": "numerical-contribution",
   "metadata": {},
   "outputs": [
    {
     "name": "stdout",
     "output_type": "stream",
     "text": [
      "3\n",
      "4\n",
      "False\n",
      "twelve\n"
     ]
    }
   ],
   "source": [
    "# getting values from collections\n",
    "print(listExample[1]) # Can use indexing\n",
    "print(tupleExample[2]) # Can use indexing\n",
    "print(4 in setExample) \n",
    "print(dictExample[12])"
   ]
  },
  {
   "cell_type": "code",
   "execution_count": 17,
   "id": "sublime-intermediate",
   "metadata": {},
   "outputs": [
    {
     "name": "stdout",
     "output_type": "stream",
     "text": [
      "Variable       Type     Data/Info\n",
      "---------------------------------\n",
      "dictExample    dict     n=3\n",
      "listExample    list     n=2\n",
      "setExample     set      {1, 2, 324, 12, 21, 123, 412}\n",
      "tupleExample   tuple    n=20\n"
     ]
    }
   ],
   "source": [
    "# adding item to collections\n",
    "listExample.append(4)\n",
    "tupleExample = tupleExample + tupleExample\n",
    "setExample.add(21)\n",
    "dictExample[\"ans\"]=\"mas\"\n",
    "%whos"
   ]
  },
  {
   "cell_type": "code",
   "execution_count": 18,
   "id": "special-briefing",
   "metadata": {},
   "outputs": [
    {
     "name": "stdout",
     "output_type": "stream",
     "text": [
      "Variable       Type     Data/Info\n",
      "---------------------------------\n",
      "dictExample    dict     n=3\n",
      "listExample    list     n=2\n",
      "setExample     set      {1, 2, 324, 12, 'ans', 21, 123, 412}\n",
      "tupleExample   tuple    n=20\n"
     ]
    }
   ],
   "source": [
    "# Modified COllections\n",
    "listExample[0] = 'ans'\n",
    "setExample.update({21,\"ans\"})\n",
    "dictExample[\"ans\"] = \"ans\"\n",
    "%whos"
   ]
  },
  {
   "cell_type": "code",
   "execution_count": 19,
   "id": "alien-senate",
   "metadata": {},
   "outputs": [
    {
     "name": "stdout",
     "output_type": "stream",
     "text": [
      "Variable       Type     Data/Info\n",
      "---------------------------------\n",
      "dictExample    dict     n=2\n",
      "listExample    list     n=1\n",
      "setExample     set      {1, 2, 324, 12, 21, 123, 412}\n",
      "tupleExample   tuple    n=20\n"
     ]
    }
   ],
   "source": [
    "# deleting element in Collections\n",
    "del listExample[1]\n",
    "setExample.remove(\"ans\")\n",
    "del dictExample['ans']\n",
    "%whos"
   ]
  },
  {
   "cell_type": "code",
   "execution_count": 20,
   "id": "working-broadcasting",
   "metadata": {},
   "outputs": [],
   "source": [
    "#Copying Collections\n",
    "\n",
    "listExample1 = listExample.copy()\n",
    "tupleExample1 = tupleExample\n",
    "setExample1  = setExample.copy()\n",
    "dictExample1 = dictExample.copy()"
   ]
  },
  {
   "cell_type": "code",
   "execution_count": 21,
   "id": "injured-python",
   "metadata": {},
   "outputs": [
    {
     "data": {
      "text/plain": [
       "'Let say you are a teacher and you have different student\\nrecords containing id of a student and the marks list in each subject\\nwhere different students have taken different number of subjects. All\\nthese records are in hard copy. You want to enter all the data in computer\\nand want to compute the average marks of each student and display'"
      ]
     },
     "execution_count": 21,
     "metadata": {},
     "output_type": "execute_result"
    }
   ],
   "source": [
    "\"\"\"Let say you are a teacher and you have different student\n",
    "records containing id of a student and the marks list in each subject\n",
    "where different students have taken different number of subjects. All\n",
    "these records are in hard copy. You want to enter all the data in computer\n",
    "and want to compute the average marks of each student and display\"\"\""
   ]
  },
  {
   "cell_type": "code",
   "execution_count": 28,
   "id": "involved-password",
   "metadata": {},
   "outputs": [
    {
     "name": "stdout",
     "output_type": "stream",
     "text": [
      "Enter Student ID123\n",
      "Enter Grade : <seperated by comma99,99,99,1\n",
      "Enter 'No' to exitno\n",
      "{'123': 74.5}\n"
     ]
    }
   ],
   "source": [
    "def solve():\n",
    "    students = {}\n",
    "    while True:\n",
    "        student_ID = input(\"Enter Student ID\")\n",
    "        grade_list = input(\"Enter Grade : <seperated by comma\")\n",
    "        addMore : str = input(\"Enter 'No' to exit\") \n",
    "        \n",
    "        if student_ID in students:\n",
    "            \n",
    "            print(f'{student_ID} is already inserted')\n",
    "        else:\n",
    "                students[student_ID] = list(map(int,grade_list.split(\",\")))\n",
    "                \n",
    "                \n",
    "        if addMore.lower() == \"no\":\n",
    "                return students\n",
    "\n",
    "def calculate_avg(D : dict ):\n",
    "    ans = {}\n",
    "    for key,val in D.items():\n",
    "        ans[key] = sum(val)/ len(val)\n",
    "    \n",
    "    return ans\n",
    "\n",
    "ans = solve()\n",
    "print(calculate_avg(ans))\n",
    "    "
   ]
  },
  {
   "cell_type": "markdown",
   "id": "injured-flavor",
   "metadata": {},
   "source": [
    "# Numpy array"
   ]
  },
  {
   "cell_type": "code",
   "execution_count": 1,
   "id": "metallic-regular",
   "metadata": {},
   "outputs": [],
   "source": [
    "import numpy as np"
   ]
  },
  {
   "cell_type": "code",
   "execution_count": 36,
   "id": "regulation-foundation",
   "metadata": {},
   "outputs": [
    {
     "name": "stdout",
     "output_type": "stream",
     "text": [
      "2\n",
      "4\n"
     ]
    }
   ],
   "source": [
    "sample = np.array([[1,2,3,4,5],[2,1,23,41,2]])\n",
    "print(sample.ndim)\n",
    "print(sample[0,3])"
   ]
  },
  {
   "cell_type": "code",
   "execution_count": 34,
   "id": "latter-british",
   "metadata": {},
   "outputs": [
    {
     "data": {
      "text/plain": [
       "2"
      ]
     },
     "execution_count": 34,
     "metadata": {},
     "output_type": "execute_result"
    }
   ],
   "source": [
    "sampleList = [[1,2,3,4,5],[1,2,3,4,5]]\n",
    "sampleList[0][1]"
   ]
  },
  {
   "cell_type": "code",
   "execution_count": 39,
   "id": "upper-istanbul",
   "metadata": {},
   "outputs": [
    {
     "name": "stdout",
     "output_type": "stream",
     "text": [
      "(2, 2, 4)\n",
      "3\n",
      "4\n"
     ]
    }
   ],
   "source": [
    "sample3dArray = np.array([[[1,2,3,4],[1,2,3,4]],[[2,3,4,5],[2,3,4,5]]])\n",
    "print(sample3dArray.shape)\n",
    "print(sample3dArray.ndim)\n",
    "print(sample3dArray[1,1,2])"
   ]
  },
  {
   "cell_type": "code",
   "execution_count": 5,
   "id": "demographic-world",
   "metadata": {},
   "outputs": [
    {
     "name": "stdout",
     "output_type": "stream",
     "text": [
      "(8, 1, 3, 4)\n",
      "4\n",
      "3\n"
     ]
    }
   ],
   "source": [
    "sample4dArray  = np.array([\n",
    "                            [[[1,2,3,4],[1,2,3,4],[1,2,3,4]]],\n",
    "                            [[[1,2,3,4],[1,2,3,4],[1,2,3,4]]],\n",
    "                            [[[1,2,3,4],[1,2,3,4],[1,2,3,4]]],\n",
    "                            [[[1,2,3,4],[1,2,3,4],[1,2,3,4]]],\n",
    "                            \n",
    "                            [[[1,2,3,4],[1,2,3,4],[1,2,3,4]]],\n",
    "                            [[[1,2,3,4],[1,2,3,4],[1,2,3,4]]],\n",
    "                            [[[1,2,3,4],[1,2,3,4],[1,2,3,4]]],\n",
    "                            [[[1,2,3,4],[1,2,3,4],[1,2,3,4]]],\n",
    "    \n",
    "    \n",
    "                          ])\n",
    "print(sample4dArray.shape)\n",
    "print(sample4dArray.ndim)\n",
    "print(sample4dArray[0,0,0,2])"
   ]
  }
 ],
 "metadata": {
  "kernelspec": {
   "display_name": "Python 3",
   "language": "python",
   "name": "python3"
  },
  "language_info": {
   "codemirror_mode": {
    "name": "ipython",
    "version": 3
   },
   "file_extension": ".py",
   "mimetype": "text/x-python",
   "name": "python",
   "nbconvert_exporter": "python",
   "pygments_lexer": "ipython3",
   "version": "3.6.12"
  }
 },
 "nbformat": 4,
 "nbformat_minor": 5
}
