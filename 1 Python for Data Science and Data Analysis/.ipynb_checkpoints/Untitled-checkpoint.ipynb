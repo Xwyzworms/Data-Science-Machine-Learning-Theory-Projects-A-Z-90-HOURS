{
 "cells": [
  {
   "cell_type": "code",
   "execution_count": null,
   "id": "amber-warrior",
   "metadata": {},
   "outputs": [],
   "source": [
    "# Module Gan\n",
    "\n",
    "import sys\n",
    "import os\n",
    "\n",
    "   sys.path.append(os.getcwd() + \"/Module/\") # If you would like to use another module \n",
    "\n",
    "from funcs import sumIt , returnTheOdds\n",
    "if __name__ == \"__main__\":\n",
    "    \n",
    "    print(sumIt(3,4,5,6,2,3,4,5,6,3))\n",
    "    \n",
    "    print(returnTheOdds(3,54,2,41,23,1,1))"
   ]
  }
 ],
 "metadata": {
  "kernelspec": {
   "display_name": "Python 3",
   "language": "python",
   "name": "python3"
  },
  "language_info": {
   "codemirror_mode": {
    "name": "ipython",
    "version": 3
   },
   "file_extension": ".py",
   "mimetype": "text/x-python",
   "name": "python",
   "nbconvert_exporter": "python",
   "pygments_lexer": "ipython3",
   "version": "3.6.12"
  }
 },
 "nbformat": 4,
 "nbformat_minor": 5
}
