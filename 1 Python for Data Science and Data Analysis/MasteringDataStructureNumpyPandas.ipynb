{
 "cells": [
  {
   "cell_type": "code",
   "execution_count": null,
   "id": "leading-vulnerability",
   "metadata": {},
   "outputs": [],
   "source": [
    "# def findMinima(L : int, startIndx : int):\n",
    "    \"\"\"\n",
    "    Find A minimun start from index 'x'\n",
    "    \"\"\"\n",
    "    \n",
    "    ans = L[startIndx]\n",
    "    idx = startIndx\n",
    "    \n",
    "    for i in range(startIndx, len(L)):\n",
    "        if(ans > L[i]):\n",
    "            ans = L[i]\n",
    "            idx = i\n",
    "    \n",
    "    return ans,idx\n",
    "\n",
    "def swapVal(L : int , val1 : int , val2: int):\n",
    "    \"\"\"\n",
    "    Swapping 2 Values Using it index\n",
    "    \"\"\"\n",
    "    \n",
    "    if (L[val1] > L[val2]):\n",
    "        temp = L[val1]\n",
    "        L[val1] = L[val2]\n",
    "        L[val2] = temp \n",
    "    return L\n",
    "\n",
    "def sortList(L : int):\n",
    "    \"\"\"\n",
    "    Sorting A List ascendingly\n",
    "    \"\"\"\n",
    "    curIndx = 0\n",
    "    for i in range(len(L)):\n",
    "        ans,minIdx = findMinima(L,curIndx)\n",
    "        L = swapVal(L,curIndx,minIdx)\n",
    "        curIndx += 1\n",
    "    \n",
    "    return L\n",
    "exList = [5,23,4,5,6,7]\n",
    "\n",
    "findMinima(exList,0)\n",
    "sortList(exList)"
   ]
  },
  {
   "cell_type": "code",
   "execution_count": null,
   "id": "strategic-living",
   "metadata": {},
   "outputs": [],
   "source": [
    "# sortList??"
   ]
  },
  {
   "cell_type": "code",
   "execution_count": null,
   "id": "innovative-pound",
   "metadata": {},
   "outputs": [],
   "source": [
    "# strSample = \"How are you and who the hell are you?\"\n",
    "# Cara bacanya mudah kok\n",
    "print(strSample[:11]) # Dari index awal sampe 10 [ 0 - 10]\n",
    "print(strSample[-3]) # Dari index paling akhir mundur 3 langkah (0,-1,-2)\n",
    "print(strSample[-13: -1]) # Dari indexp paling akhir mundur 13 langkah lalu maju sampai index -1\n",
    "print(strSample[0:12:3]) # Ini mah lompat\n",
    "print(strSample[-20:-1]) # sama kek yang -13 : -1\n"
   ]
  },
  {
   "cell_type": "code",
   "execution_count": null,
   "id": "continued-dylan",
   "metadata": {},
   "outputs": [],
   "source": [
    "# Data Structures"
   ]
  },
  {
   "cell_type": "code",
   "execution_count": 5,
   "id": "peaceful-junction",
   "metadata": {},
   "outputs": [
    {
     "name": "stdout",
     "output_type": "stream",
     "text": [
      "Variable       Type     Data/Info\n",
      "---------------------------------\n",
      "dictExample    dict     n=2\n",
      "listExample    list     n=5\n",
      "setExample     set      {1, 2, 324, 12, 123, 412}\n",
      "tupleExample   tuple    n=5\n"
     ]
    }
   ],
   "source": [
    "listExample = [1,3,4,'Woy',3]\n",
    "tupleExample = (1,3,4,'231','1')\n",
    "setExample = {12,324,123,412,12,12,1,2}\n",
    "dictExample = {12:\"twelve\",\"32\":'das'}\n",
    "%whos"
   ]
  },
  {
   "cell_type": "code",
   "execution_count": 6,
   "id": "bearing-serum",
   "metadata": {},
   "outputs": [
    {
     "name": "stdout",
     "output_type": "stream",
     "text": [
      "The type of L is  <class 'list'>\n",
      "The type of T is  <class 'tuple'>\n",
      "The type of S is  <class 'set'>\n",
      "The type of D is  <class 'dict'>\n"
     ]
    }
   ],
   "source": [
    "print(\"The type of L is \", type(listExample))\n",
    "print(\"The type of T is \", type(tupleExample))\n",
    "print(\"The type of S is \", type(setExample))\n",
    "print(\"The type of D is \", type(dictExample))"
   ]
  },
  {
   "cell_type": "code",
   "execution_count": 8,
   "id": "numerical-contribution",
   "metadata": {},
   "outputs": [
    {
     "name": "stdout",
     "output_type": "stream",
     "text": [
      "3\n",
      "4\n",
      "False\n",
      "twelve\n"
     ]
    }
   ],
   "source": [
    "# getting values from collections\n",
    "print(listExample[1]) # Can use indexing\n",
    "print(tupleExample[2]) # Can use indexing\n",
    "print(4 in setExample) \n",
    "print(dictExample[12])"
   ]
  },
  {
   "cell_type": "code",
   "execution_count": 17,
   "id": "sublime-intermediate",
   "metadata": {},
   "outputs": [
    {
     "name": "stdout",
     "output_type": "stream",
     "text": [
      "Variable       Type     Data/Info\n",
      "---------------------------------\n",
      "dictExample    dict     n=3\n",
      "listExample    list     n=2\n",
      "setExample     set      {1, 2, 324, 12, 21, 123, 412}\n",
      "tupleExample   tuple    n=20\n"
     ]
    }
   ],
   "source": [
    "# adding item to collections\n",
    "listExample.append(4)\n",
    "tupleExample = tupleExample + tupleExample\n",
    "setExample.add(21)\n",
    "dictExample[\"ans\"]=\"mas\"\n",
    "%whos"
   ]
  },
  {
   "cell_type": "code",
   "execution_count": 18,
   "id": "special-briefing",
   "metadata": {},
   "outputs": [
    {
     "name": "stdout",
     "output_type": "stream",
     "text": [
      "Variable       Type     Data/Info\n",
      "---------------------------------\n",
      "dictExample    dict     n=3\n",
      "listExample    list     n=2\n",
      "setExample     set      {1, 2, 324, 12, 'ans', 21, 123, 412}\n",
      "tupleExample   tuple    n=20\n"
     ]
    }
   ],
   "source": [
    "# Modified COllections\n",
    "listExample[0] = 'ans'\n",
    "setExample.update({21,\"ans\"})\n",
    "dictExample[\"ans\"] = \"ans\"\n",
    "%whos"
   ]
  },
  {
   "cell_type": "code",
   "execution_count": 19,
   "id": "alien-senate",
   "metadata": {},
   "outputs": [
    {
     "name": "stdout",
     "output_type": "stream",
     "text": [
      "Variable       Type     Data/Info\n",
      "---------------------------------\n",
      "dictExample    dict     n=2\n",
      "listExample    list     n=1\n",
      "setExample     set      {1, 2, 324, 12, 21, 123, 412}\n",
      "tupleExample   tuple    n=20\n"
     ]
    }
   ],
   "source": [
    "# deleting element in Collections\n",
    "del listExample[1]\n",
    "setExample.remove(\"ans\")\n",
    "del dictExample['ans']\n",
    "%whos"
   ]
  },
  {
   "cell_type": "code",
   "execution_count": 20,
   "id": "working-broadcasting",
   "metadata": {},
   "outputs": [],
   "source": [
    "#Copying Collections\n",
    "\n",
    "listExample1 = listExample.copy()\n",
    "tupleExample1 = tupleExample\n",
    "setExample1  = setExample.copy()\n",
    "dictExample1 = dictExample.copy()"
   ]
  },
  {
   "cell_type": "code",
   "execution_count": 21,
   "id": "injured-python",
   "metadata": {},
   "outputs": [
    {
     "data": {
      "text/plain": [
       "'Let say you are a teacher and you have different student\\nrecords containing id of a student and the marks list in each subject\\nwhere different students have taken different number of subjects. All\\nthese records are in hard copy. You want to enter all the data in computer\\nand want to compute the average marks of each student and display'"
      ]
     },
     "execution_count": 21,
     "metadata": {},
     "output_type": "execute_result"
    }
   ],
   "source": [
    "\"\"\"Let say you are a teacher and you have different student\n",
    "records containing id of a student and the marks list in each subject\n",
    "where different students have taken different number of subjects. All\n",
    "these records are in hard copy. You want to enter all the data in computer\n",
    "and want to compute the average marks of each student and display\"\"\""
   ]
  },
  {
   "cell_type": "code",
   "execution_count": 28,
   "id": "involved-password",
   "metadata": {},
   "outputs": [
    {
     "name": "stdout",
     "output_type": "stream",
     "text": [
      "Enter Student ID123\n",
      "Enter Grade : <seperated by comma99,99,99,1\n",
      "Enter 'No' to exitno\n",
      "{'123': 74.5}\n"
     ]
    }
   ],
   "source": [
    "def solve():\n",
    "    students = {}\n",
    "    while True:\n",
    "        student_ID = input(\"Enter Student ID\")\n",
    "        grade_list = input(\"Enter Grade : <seperated by comma\")\n",
    "        addMore : str = input(\"Enter 'No' to exit\") \n",
    "        \n",
    "        if student_ID in students:\n",
    "            \n",
    "            print(f'{student_ID} is already inserted')\n",
    "        else:\n",
    "                students[student_ID] = list(map(int,grade_list.split(\",\")))\n",
    "                \n",
    "                \n",
    "        if addMore.lower() == \"no\":\n",
    "                return students\n",
    "\n",
    "def calculate_avg(D : dict ):\n",
    "    ans = {}\n",
    "    for key,val in D.items():\n",
    "        ans[key] = sum(val)/ len(val)\n",
    "    \n",
    "    return ans\n",
    "\n",
    "ans = solve()\n",
    "print(calculate_avg(ans))\n",
    "    "
   ]
  },
  {
   "cell_type": "markdown",
   "id": "injured-flavor",
   "metadata": {},
   "source": [
    "# Numpy array"
   ]
  },
  {
   "cell_type": "code",
   "execution_count": 1,
   "id": "metallic-regular",
   "metadata": {},
   "outputs": [],
   "source": [
    "import numpy as np"
   ]
  },
  {
   "cell_type": "code",
   "execution_count": 36,
   "id": "regulation-foundation",
   "metadata": {},
   "outputs": [
    {
     "name": "stdout",
     "output_type": "stream",
     "text": [
      "2\n",
      "4\n"
     ]
    }
   ],
   "source": [
    "sample = np.array([[1,2,3,4,5],[2,1,23,41,2]])\n",
    "print(sample.ndim)\n",
    "print(sample[0,3])"
   ]
  },
  {
   "cell_type": "code",
   "execution_count": 34,
   "id": "latter-british",
   "metadata": {},
   "outputs": [
    {
     "data": {
      "text/plain": [
       "2"
      ]
     },
     "execution_count": 34,
     "metadata": {},
     "output_type": "execute_result"
    }
   ],
   "source": [
    "sampleList = [[1,2,3,4,5],[1,2,3,4,5]]\n",
    "sampleList[0][1]"
   ]
  },
  {
   "cell_type": "code",
   "execution_count": null,
   "id": "peaceful-parish",
   "metadata": {},
   "outputs": [],
   "source": [
    "sampleL"
   ]
  },
  {
   "cell_type": "code",
   "execution_count": 39,
   "id": "upper-istanbul",
   "metadata": {},
   "outputs": [
    {
     "name": "stdout",
     "output_type": "stream",
     "text": [
      "(2, 2, 4)\n",
      "3\n",
      "4\n"
     ]
    }
   ],
   "source": [
    "sample3dArray = np.array([[[1,2,3,4],[1,2,3,4]],[[2,3,4,5],[2,3,4,5]]])\n",
    "print(sample3dArray.shape)\n",
    "print(sample3dArray.ndim)\n",
    "print(sample3dArray[1,1,2])"
   ]
  },
  {
   "cell_type": "code",
   "execution_count": 11,
   "id": "demographic-world",
   "metadata": {},
   "outputs": [
    {
     "name": "stdout",
     "output_type": "stream",
     "text": [
      "(8, 1, 3, 4)\n",
      "4\n",
      "3\n"
     ]
    }
   ],
   "source": [
    "sample4dArray  = np.array([\n",
    "                            [[[1,2,3,4],[1,2,3,4],[1,2,3,4]]],\n",
    "                            [[[1,2,3,4],[1,2,3,4],[1,2,3,4]]],\n",
    "                            [[[1,2,3,4],[1,2,3,4],[1,2,3,4]]],\n",
    "                            [[[1,2,3,4],[1,2,3,4],[1,2,3,4]]],\n",
    "                            \n",
    "                            [[[1,2,3,4],[1,2,3,4],[1,2,3,4]]],\n",
    "                            [[[1,2,3,4],[1,2,3,4],[1,2,3,4]]],\n",
    "                            [[[1,2,3,4],[1,2,3,4],[1,2,3,4]]],\n",
    "                            [[[1,2,3,4],[1,2,3,4],[1,2,3,4]]],\n",
    "    \n",
    "    \n",
    "                          ])\n",
    "print(sample4dArray.shape)\n",
    "print(sample4dArray.ndim)\n",
    "print(sample4dArray[0,0,0,2])"
   ]
  },
  {
   "cell_type": "code",
   "execution_count": 9,
   "id": "insured-mortality",
   "metadata": {},
   "outputs": [
    {
     "data": {
      "text/plain": [
       "5"
      ]
     },
     "execution_count": 9,
     "metadata": {},
     "output_type": "execute_result"
    }
   ],
   "source": [
    "def arrayExample(sampis:np.ndarray):\n",
    "    return np.array(sampis)\n",
    "\n",
    "ans = arrayExample([1,2,3,4,5])\n",
    "ans.size"
   ]
  },
  {
   "cell_type": "code",
   "execution_count": 12,
   "id": "expressed-calcium",
   "metadata": {},
   "outputs": [
    {
     "data": {
      "text/plain": [
       "96"
      ]
     },
     "execution_count": 12,
     "metadata": {},
     "output_type": "execute_result"
    }
   ],
   "source": [
    "sample4dArray.size "
   ]
  },
  {
   "cell_type": "code",
   "execution_count": 13,
   "id": "annual-cooper",
   "metadata": {},
   "outputs": [
    {
     "name": "stdout",
     "output_type": "stream",
     "text": [
      "[20 22 24 26 28 30 32 34 36 38 40 42 44 46 48 50 52 54 56 58 60 62 64 66\n",
      " 68 70 72 74 76 78 80 82 84 86 88 90 92 94 96 98]\n"
     ]
    }
   ],
   "source": [
    "A = np.arange(20,100,2)\n",
    "print(A)"
   ]
  },
  {
   "cell_type": "code",
   "execution_count": 14,
   "id": "above-health",
   "metadata": {},
   "outputs": [
    {
     "name": "stdout",
     "output_type": "stream",
     "text": [
      "range(0, 10)\n",
      "[0, 1, 2, 3, 4, 5, 6, 7, 8, 9]\n"
     ]
    }
   ],
   "source": [
    "print(range(10))\n",
    "print(list(range(10)))"
   ]
  },
  {
   "cell_type": "code",
   "execution_count": 17,
   "id": "cognitive-communist",
   "metadata": {},
   "outputs": [
    {
     "name": "stdout",
     "output_type": "stream",
     "text": [
      "[1 8 0 5 3 7 4 2 9 6]\n"
     ]
    }
   ],
   "source": [
    "A = np.random.permutation(np.arange(10))\n",
    "print(A)"
   ]
  },
  {
   "cell_type": "code",
   "execution_count": 19,
   "id": "reliable-relay",
   "metadata": {},
   "outputs": [
    {
     "data": {
      "text/plain": [
       "19"
      ]
     },
     "execution_count": 19,
     "metadata": {},
     "output_type": "execute_result"
    }
   ],
   "source": [
    "np.random.randint(10,20)"
   ]
  },
  {
   "cell_type": "code",
   "execution_count": 20,
   "id": "demanding-bedroom",
   "metadata": {},
   "outputs": [],
   "source": [
    "import matplotlib.pyplot as plt"
   ]
  },
  {
   "cell_type": "code",
   "execution_count": 22,
   "id": "convenient-september",
   "metadata": {},
   "outputs": [
    {
     "data": {
      "text/plain": [
       "array([0.24565862, 0.85821939, 0.82827341, 0.6384415 , 0.68940152,\n",
       "       0.62284036, 0.92770312, 0.25526532, 0.92432894, 0.86594458])"
      ]
     },
     "execution_count": 22,
     "metadata": {},
     "output_type": "execute_result"
    }
   ],
   "source": [
    "np.random.rand(10) # 0 - 1 , total 10 "
   ]
  },
  {
   "cell_type": "code",
   "execution_count": 26,
   "id": "willing-tolerance",
   "metadata": {},
   "outputs": [
    {
     "data": {
      "text/plain": [
       "(array([ 9., 14.,  9.,  4.,  6., 13.,  9.,  9., 10., 17.]),\n",
       " array([0.00554428, 0.10455853, 0.20357278, 0.30258703, 0.40160128,\n",
       "        0.50061553, 0.59962978, 0.69864403, 0.79765828, 0.89667253,\n",
       "        0.99568678]),\n",
       " <BarContainer object of 10 artists>)"
      ]
     },
     "execution_count": 26,
     "metadata": {},
     "output_type": "execute_result"
    },
    {
     "data": {
      "image/png": "[encoded data removed]",
      "text/plain": [
       "<Figure size 432x288 with 1 Axes>"
      ]
     },
     "metadata": {
      "needs_background": "light"
     },
     "output_type": "display_data"
    }
   ],
   "source": [
    "example = np.random.rand(100)\n",
    "plt.hist(example,bins=10)"
   ]
  },
  {
   "cell_type": "code",
   "execution_count": 31,
   "id": "infrared-restriction",
   "metadata": {},
   "outputs": [
    {
     "data": {
      "text/plain": [
       "(array([  2.,   0.,   0.,   0.,   1.,   0.,   0.,   0.,   5.,   4.,   5.,\n",
       "          5.,   4.,   1.,  14.,  14.,  14.,  20.,  20.,  24.,  20.,  31.,\n",
       "         38.,  42.,  55.,  61.,  56.,  87., 107.,  86., 105., 129., 122.,\n",
       "        148., 178., 177., 204., 218., 220., 264., 228., 270., 264., 291.,\n",
       "        280., 307., 326., 308., 295., 294., 296., 306., 300., 307., 282.,\n",
       "        285., 263., 223., 244., 221., 189., 183., 186., 154., 129., 127.,\n",
       "        124.,  96., 115.,  86.,  82.,  83.,  58.,  48.,  35.,  33.,  31.,\n",
       "         25.,  29.,  24.,  14.,  11.,  16.,  12.,   6.,  11.,   6.,   4.,\n",
       "          3.,   2.,   0.,   2.,   1.,   1.,   0.,   1.,   0.,   0.,   1.,\n",
       "          1.]),\n",
       " array([-3.77110786, -3.69357896, -3.61605006, -3.53852115, -3.46099225,\n",
       "        -3.38346335, -3.30593444, -3.22840554, -3.15087664, -3.07334773,\n",
       "        -2.99581883, -2.91828993, -2.84076102, -2.76323212, -2.68570322,\n",
       "        -2.60817431, -2.53064541, -2.45311651, -2.3755876 , -2.2980587 ,\n",
       "        -2.2205298 , -2.14300089, -2.06547199, -1.98794309, -1.91041418,\n",
       "        -1.83288528, -1.75535638, -1.67782747, -1.60029857, -1.52276967,\n",
       "        -1.44524076, -1.36771186, -1.29018296, -1.21265405, -1.13512515,\n",
       "        -1.05759624, -0.98006734, -0.90253844, -0.82500953, -0.74748063,\n",
       "        -0.66995173, -0.59242282, -0.51489392, -0.43736502, -0.35983611,\n",
       "        -0.28230721, -0.20477831, -0.1272494 , -0.0497205 ,  0.0278084 ,\n",
       "         0.10533731,  0.18286621,  0.26039511,  0.33792402,  0.41545292,\n",
       "         0.49298182,  0.57051073,  0.64803963,  0.72556853,  0.80309744,\n",
       "         0.88062634,  0.95815524,  1.03568415,  1.11321305,  1.19074195,\n",
       "         1.26827086,  1.34579976,  1.42332866,  1.50085757,  1.57838647,\n",
       "         1.65591537,  1.73344428,  1.81097318,  1.88850209,  1.96603099,\n",
       "         2.04355989,  2.1210888 ,  2.1986177 ,  2.2761466 ,  2.35367551,\n",
       "         2.43120441,  2.50873331,  2.58626222,  2.66379112,  2.74132002,\n",
       "         2.81884893,  2.89637783,  2.97390673,  3.05143564,  3.12896454,\n",
       "         3.20649344,  3.28402235,  3.36155125,  3.43908015,  3.51660906,\n",
       "         3.59413796,  3.67166686,  3.74919577,  3.82672467,  3.90425357,\n",
       "         3.98178248]),\n",
       " <BarContainer object of 100 artists>)"
      ]
     },
     "execution_count": 31,
     "metadata": {},
     "output_type": "execute_result"
    },
    {
     "data": {
      "image/png": "[encoded data removed]",
      "text/plain": [
       "<Figure size 432x288 with 1 Axes>"
      ]
     },
     "metadata": {
      "needs_background": "light"
     },
     "output_type": "display_data"
    }
   ],
   "source": [
    "B = np.random.randn(10000)\n",
    "plt.hist(B,bins = 100)"
   ]
  },
  {
   "cell_type": "code",
   "execution_count": 47,
   "id": "contrary-inflation",
   "metadata": {},
   "outputs": [
    {
     "data": {
      "text/plain": [
       "array([[[[0.02082707, 0.56036544, 0.36162915, 0.8056179 ],\n",
       "         [0.03630275, 0.57609165, 0.20538378, 0.52787154]],\n",
       "\n",
       "        [[0.80125511, 0.6250925 , 0.54005611, 0.98644592],\n",
       "         [0.40605294, 0.51992898, 0.72547134, 0.80037299]]],\n",
       "\n",
       "\n",
       "       [[[0.053571  , 0.57355947, 0.31107796, 0.3971742 ],\n",
       "         [0.5577154 , 0.85630917, 0.2984643 , 0.66428067]],\n",
       "\n",
       "        [[0.39699058, 0.64219926, 0.90667001, 0.92867539],\n",
       "         [0.69370435, 0.90734414, 0.65393749, 0.41270946]]]])"
      ]
     },
     "execution_count": 47,
     "metadata": {},
     "output_type": "execute_result"
    }
   ],
   "source": [
    "np.random.rand(2,2,2,4)"
   ]
  },
  {
   "cell_type": "code",
   "execution_count": 61,
   "id": "comparable-gross",
   "metadata": {},
   "outputs": [
    {
     "data": {
      "text/plain": [
       "array([[[ 0,  1,  2,  3,  4],\n",
       "        [ 5,  6,  7,  8,  9]],\n",
       "\n",
       "       [[10, 11, 12, 13, 14],\n",
       "        [15, 16, 17, 18, 19]]])"
      ]
     },
     "execution_count": 61,
     "metadata": {},
     "output_type": "execute_result"
    }
   ],
   "source": [
    "# Cek sizenya dlu terus ntar bisa direshape se simple mungkin lakukan perkalian ./...\n",
    "np.arange(100).reshape(5,5,4)\n",
    "np.arange(20).reshape(2,2,5)"
   ]
  },
  {
   "cell_type": "code",
   "execution_count": 63,
   "id": "native-rescue",
   "metadata": {},
   "outputs": [
    {
     "name": "stdout",
     "output_type": "stream",
     "text": [
      "[-1111, 2, 3, 4]\n"
     ]
    }
   ],
   "source": [
    "a = [1,2,3,4]\n",
    "b = a \n",
    "b[0] = -1111\n",
    "print(a)"
   ]
  },
  {
   "cell_type": "markdown",
   "id": "hispanic-settlement",
   "metadata": {},
   "source": [
    "# Test If Numpy methods can accept tuple and list"
   ]
  },
  {
   "cell_type": "code",
   "execution_count": 66,
   "id": "adjusted-criticism",
   "metadata": {},
   "outputs": [
    {
     "name": "stdout",
     "output_type": "stream",
     "text": [
      "4\n",
      "3\n"
     ]
    }
   ],
   "source": [
    "sampel1 = [123,4,5,2,2,3]\n",
    "sampleTuple1 = (1,2,3,4,5)\n",
    "\n",
    "print(np.random.choice(sampel1))\n",
    "print(np.random.choice(sampleTuple1))\n"
   ]
  },
  {
   "cell_type": "code",
   "execution_count": 69,
   "id": "extraordinary-bible",
   "metadata": {},
   "outputs": [
    {
     "name": "stdout",
     "output_type": "stream",
     "text": [
      "[1 2 3 4 5] [9999    2    3    4    5]\n"
     ]
    }
   ],
   "source": [
    "# Remember to always copy the value when using indexing both numpy and list\n",
    "ans = np.array(sampleTuple1)\n",
    "ans2 = ans.copy()\n",
    "ans2[0] = 9999\n",
    "print(ans,ans2)"
   ]
  },
  {
   "cell_type": "code",
   "execution_count": 72,
   "id": "concrete-interference",
   "metadata": {},
   "outputs": [
    {
     "data": {
      "text/plain": [
       "array([[0]], dtype=int64)"
      ]
     },
     "execution_count": 72,
     "metadata": {},
     "output_type": "execute_result"
    }
   ],
   "source": [
    "# Getting index from np.srttt\n",
    " \n",
    "np.argwhere(ans2 == 9999) # retunr np arr sesuai ndim"
   ]
  },
  {
   "cell_type": "code",
   "execution_count": 118,
   "id": "progressive-speaker",
   "metadata": {},
   "outputs": [
    {
     "data": {
      "text/plain": [
       "(20, 2)"
      ]
     },
     "execution_count": 118,
     "metadata": {},
     "output_type": "execute_result"
    }
   ],
   "source": [
    "#Using hvstack and vstack\n",
    "sample1 = np.random.rand(10,2)\n",
    "sample2 = np.random.rand(10,2)\n",
    "ans = np.vstack((sample1,sample2))\n",
    "ans.shape"
   ]
  },
  {
   "cell_type": "code",
   "execution_count": 126,
   "id": "necessary-brisbane",
   "metadata": {},
   "outputs": [
    {
     "data": {
      "text/plain": [
       "(10, 5)"
      ]
     },
     "execution_count": 126,
     "metadata": {},
     "output_type": "execute_result"
    }
   ],
   "source": [
    "sample1 = np.random.rand(10,2)\n",
    "sample2 = np.random.rand(10,3)\n",
    "ans = np.hstack([sample1,sample2])\n",
    "ans.shape"
   ]
  },
  {
   "cell_type": "code",
   "execution_count": 99,
   "id": "electric-manner",
   "metadata": {},
   "outputs": [
    {
     "data": {
      "text/plain": [
       "array([[0.6256146 , 0.29533257, 0.07049566, 0.73456603],\n",
       "       [0.96186133, 0.11048343, 0.02312479, 0.16489091],\n",
       "       [0.61238754, 0.55772868, 0.50292185, 0.88557584],\n",
       "       [0.95882272, 0.40781833, 0.75476368, 0.84916969],\n",
       "       [0.33073211, 0.50968974, 0.40975192, 0.54423705]])"
      ]
     },
     "execution_count": 99,
     "metadata": {},
     "output_type": "execute_result"
    }
   ],
   "source": [
    "sampleAgain = np.random.rand(5,4)\n",
    "sampleAgain"
   ]
  },
  {
   "cell_type": "code",
   "execution_count": 85,
   "id": "sensitive-tongue",
   "metadata": {},
   "outputs": [
    {
     "data": {
      "text/plain": [
       "array([[0.22062662, 0.99755588],\n",
       "       [0.37702752, 0.77779296],\n",
       "       [0.05900466, 0.65355087]])"
      ]
     },
     "execution_count": 85,
     "metadata": {},
     "output_type": "execute_result"
    }
   ],
   "source": [
    "sampleAgain[:3,:2]"
   ]
  },
  {
   "cell_type": "code",
   "execution_count": 106,
   "id": "facial-channels",
   "metadata": {},
   "outputs": [],
   "source": [
    "sample2 = sampleAgain.T.copy()"
   ]
  },
  {
   "cell_type": "code",
   "execution_count": 107,
   "id": "pacific-organ",
   "metadata": {},
   "outputs": [
    {
     "data": {
      "text/plain": [
       "array([[0.02312479, 0.11048343, 0.16489091, 0.33073211],\n",
       "       [0.07049566, 0.29533257, 0.54423705, 0.61238754],\n",
       "       [0.40781833, 0.40975192, 0.6256146 , 0.73456603],\n",
       "       [0.50292185, 0.50968974, 0.84916969, 0.95882272],\n",
       "       [0.55772868, 0.75476368, 0.88557584, 0.96186133]])"
      ]
     },
     "execution_count": 107,
     "metadata": {},
     "output_type": "execute_result"
    }
   ],
   "source": [
    "sampleAgain.sort(axis=1)\n",
    "sampleAgain"
   ]
  },
  {
   "cell_type": "markdown",
   "id": "respective-delicious",
   "metadata": {},
   "source": [
    "## Indexing In Numpy aarrray "
   ]
  },
  {
   "cell_type": "code",
   "execution_count": 115,
   "id": "spoken-tracker",
   "metadata": {},
   "outputs": [
    {
     "data": {
      "text/plain": [
       "array([9., 8., 6., 6., 7., 9., 7., 9.])"
      ]
     },
     "execution_count": 115,
     "metadata": {},
     "output_type": "execute_result"
    }
   ],
   "source": [
    "# Indewxing will return the copy not references !\n",
    "\n",
    "# use & , | and ~ if Using np.array because it does bit by bit comparasion\n",
    "\n",
    "sample1 = np.round(10*np.random.rand(5,4))\n",
    "ans = sample1[ (sample1 > 5) & (sample1 <10 ) ] \n",
    "ans"
   ]
  },
  {
   "cell_type": "code",
   "execution_count": 114,
   "id": "aggregate-doctor",
   "metadata": {},
   "outputs": [
    {
     "name": "stdout",
     "output_type": "stream",
     "text": [
      "2\n"
     ]
    }
   ],
   "source": [
    "sample = [1,2,3,5,6]\n",
    "for i in sample:\n",
    "    if ( (i == 2) and (i <3) ):\n",
    "        print(i)\n"
   ]
  },
  {
   "cell_type": "markdown",
   "id": "convinced-turner",
   "metadata": {},
   "source": [
    "# Pandas Section"
   ]
  },
  {
   "cell_type": "markdown",
   "id": "bacterial-experience",
   "metadata": {},
   "source": [
    "## Pandas is built from top of numpy so the return value of pandas method could be numpy array , also the series is built from dict collection from python itself we can built dataframe also with the dict\n",
    "\n",
    "## Series is just numpy with indexes \n"
   ]
  },
  {
   "cell_type": "code",
   "execution_count": 1,
   "id": "minus-cartridge",
   "metadata": {},
   "outputs": [
    {
     "data": {
      "text/plain": [
       "a    1\n",
       "b    3\n",
       "c    4\n",
       "dtype: int64"
      ]
     },
     "execution_count": 1,
     "metadata": {},
     "output_type": "execute_result"
    }
   ],
   "source": [
    "# Series\n",
    "import pandas as pd\n",
    "import numpy as np\n",
    "dictSample = {\"a\": 1 , \"b\" : 3 , \"c\" : 4}\n",
    "dictSample2 = {\"d\" : 556 , \"e\" : 222,\"f\":412}\n",
    "df = pd.Series(dictSample)\n",
    "df.head()\n"
   ]
  },
  {
   "cell_type": "code",
   "execution_count": 18,
   "id": "filled-annual",
   "metadata": {},
   "outputs": [
    {
     "name": "stdout",
     "output_type": "stream",
     "text": [
      "True\n"
     ]
    }
   ],
   "source": [
    "print(isinstance(df.values,np.ndarray)) # Yep True"
   ]
  },
  {
   "cell_type": "code",
   "execution_count": 21,
   "id": "orange-craps",
   "metadata": {},
   "outputs": [
    {
     "data": {
      "text/plain": [
       "a    1\n",
       "b    2\n",
       "c    3\n",
       "d    4\n",
       "e    5\n",
       "dtype: int64"
      ]
     },
     "execution_count": 21,
     "metadata": {},
     "output_type": "execute_result"
    }
   ],
   "source": [
    "df = pd.Series([1,2,3,4,5],index=[\"a\",'b','c','d','e'])\n",
    "df.head()"
   ]
  },
  {
   "cell_type": "code",
   "execution_count": 25,
   "id": "rocky-fever",
   "metadata": {},
   "outputs": [
    {
     "name": "stdout",
     "output_type": "stream",
     "text": [
      "a    1\n",
      "b    2\n",
      "c    3\n",
      "d    4\n",
      "dtype: int64\n",
      "a    1\n",
      "b    2\n",
      "c    3\n",
      "d    4\n",
      "e    5\n",
      "dtype: int64\n"
     ]
    }
   ],
   "source": [
    "# in pandas the index last elements will included\n",
    "#indexing implicit Seires\n",
    "print(df[0:4])\n",
    "\n",
    "# indexing Explicit Seires Only\n",
    "print(df[\"a\":\"e\"])"
   ]
  },
  {
   "cell_type": "code",
   "execution_count": 13,
   "id": "preceding-questionnaire",
   "metadata": {},
   "outputs": [
    {
     "data": {
      "text/plain": [
       "dict_values([1, 3, 4])"
      ]
     },
     "execution_count": 13,
     "metadata": {},
     "output_type": "execute_result"
    }
   ],
   "source": [
    "dictSample.values()"
   ]
  },
  {
   "cell_type": "code",
   "execution_count": 2,
   "id": "divine-medicaid",
   "metadata": {},
   "outputs": [
    {
     "data": {
      "text/html": [
       "<div>\n",
       "<style scoped>\n",
       "    .dataframe tbody tr th:only-of-type {\n",
       "        vertical-align: middle;\n",
       "    }\n",
       "\n",
       "    .dataframe tbody tr th {\n",
       "        vertical-align: top;\n",
       "    }\n",
       "\n",
       "    .dataframe thead th {\n",
       "        text-align: right;\n",
       "    }\n",
       "</style>\n",
       "<table border=\"1\" class=\"dataframe\">\n",
       "  <thead>\n",
       "    <tr style=\"text-align: right;\">\n",
       "      <th></th>\n",
       "      <th>ans</th>\n",
       "      <th>ans2</th>\n",
       "    </tr>\n",
       "  </thead>\n",
       "  <tbody>\n",
       "    <tr>\n",
       "      <th>a</th>\n",
       "      <td>1</td>\n",
       "      <td>1</td>\n",
       "    </tr>\n",
       "    <tr>\n",
       "      <th>b</th>\n",
       "      <td>3</td>\n",
       "      <td>3</td>\n",
       "    </tr>\n",
       "    <tr>\n",
       "      <th>c</th>\n",
       "      <td>4</td>\n",
       "      <td>4</td>\n",
       "    </tr>\n",
       "  </tbody>\n",
       "</table>\n",
       "</div>"
      ],
      "text/plain": [
       "   ans  ans2\n",
       "a    1     1\n",
       "b    3     3\n",
       "c    4     4"
      ]
     },
     "execution_count": 2,
     "metadata": {},
     "output_type": "execute_result"
    }
   ],
   "source": [
    "df = pd.DataFrame( {\"ans\":dictSample,\"ans2\":dictSample})\n",
    "df.head()\n"
   ]
  },
  {
   "cell_type": "code",
   "execution_count": 35,
   "id": "absent-territory",
   "metadata": {},
   "outputs": [
    {
     "data": {
      "text/plain": [
       "a    1\n",
       "b    3\n",
       "c    4\n",
       "Name: ans, dtype: int64"
      ]
     },
     "execution_count": 35,
     "metadata": {},
     "output_type": "execute_result"
    }
   ],
   "source": [
    "# Eksplicit\n",
    "df.iloc[0:3,0]"
   ]
  },
  {
   "cell_type": "code",
   "execution_count": 34,
   "id": "emerging-worry",
   "metadata": {},
   "outputs": [
    {
     "data": {
      "text/html": [
       "<div>\n",
       "<style scoped>\n",
       "    .dataframe tbody tr th:only-of-type {\n",
       "        vertical-align: middle;\n",
       "    }\n",
       "\n",
       "    .dataframe tbody tr th {\n",
       "        vertical-align: top;\n",
       "    }\n",
       "\n",
       "    .dataframe thead th {\n",
       "        text-align: right;\n",
       "    }\n",
       "</style>\n",
       "<table border=\"1\" class=\"dataframe\">\n",
       "  <thead>\n",
       "    <tr style=\"text-align: right;\">\n",
       "      <th></th>\n",
       "      <th>ans</th>\n",
       "      <th>ans2</th>\n",
       "    </tr>\n",
       "  </thead>\n",
       "  <tbody>\n",
       "    <tr>\n",
       "      <th>a</th>\n",
       "      <td>1</td>\n",
       "      <td>1</td>\n",
       "    </tr>\n",
       "    <tr>\n",
       "      <th>b</th>\n",
       "      <td>3</td>\n",
       "      <td>3</td>\n",
       "    </tr>\n",
       "    <tr>\n",
       "      <th>c</th>\n",
       "      <td>4</td>\n",
       "      <td>4</td>\n",
       "    </tr>\n",
       "  </tbody>\n",
       "</table>\n",
       "</div>"
      ],
      "text/plain": [
       "   ans  ans2\n",
       "a    1     1\n",
       "b    3     3\n",
       "c    4     4"
      ]
     },
     "execution_count": 34,
     "metadata": {},
     "output_type": "execute_result"
    }
   ],
   "source": [
    "#implicit\n",
    "df.loc['a' : 'c',:]\n"
   ]
  },
  {
   "cell_type": "code",
   "execution_count": null,
   "id": "imposed-employment",
   "metadata": {},
   "outputs": [],
   "source": []
  },
  {
   "cell_type": "code",
   "execution_count": null,
   "id": "buried-broadcasting",
   "metadata": {},
   "outputs": [],
   "source": []
  },
  {
   "cell_type": "code",
   "execution_count": null,
   "id": "surprised-easter",
   "metadata": {},
   "outputs": [],
   "source": []
  },
  {
   "cell_type": "code",
   "execution_count": null,
   "id": "loose-organic",
   "metadata": {},
   "outputs": [],
   "source": []
  },
  {
   "cell_type": "code",
   "execution_count": 39,
   "id": "julian-shield",
   "metadata": {},
   "outputs": [],
   "source": [
    "import numpy as np\n",
    "listKelompokGlobal : np.ndarray = np.array(list(range(1,21)))\n",
    "\n",
    "def randomKelompok(totalPerson : int,listKelompok):\n",
    "    listKel = listKelompok.copy()\n",
    "    ans : set = set()\n",
    "    for i in range(0,4):\n",
    "        index :int = 0\n",
    "        while(len (ans) < totalPerson):\n",
    "            elements = np.random.choice(listKel)\n",
    "            ans.add(elements)\n",
    "            index = np.where(listKel == elements)\n",
    "            listKel =  np.delete(listKel,index,axis=0)\n",
    "        print(ans)\n",
    "        ans.clear()"
   ]
  },
  {
   "cell_type": "code",
   "execution_count": 43,
   "id": "exposed-swiss",
   "metadata": {},
   "outputs": [
    {
     "name": "stdout",
     "output_type": "stream",
     "text": [
      "{6, 7, 9, 13, 15}\n",
      "{1, 11, 14, 18, 19}\n",
      "{4, 5, 8, 10, 17}\n",
      "{2, 3, 12, 16, 20}\n"
     ]
    }
   ],
   "source": [
    "randomKelompok(5,listKelompokGlobal)"
   ]
  },
  {
   "cell_type": "markdown",
   "id": "preliminary-gothic",
   "metadata": {},
   "source": [
    "# Pandas != Numpy in AXIS , Axis 0 and axis 1 in pandas repectively row and column , but in numpy axis 0 = column and axis 1 = row "
   ]
  },
  {
   "cell_type": "markdown",
   "id": "american-arthur",
   "metadata": {},
   "source": [
    "# Basic Data Understanding Using pandas"
   ]
  },
  {
   "cell_type": "code",
   "execution_count": 1,
   "id": "compound-breathing",
   "metadata": {},
   "outputs": [],
   "source": [
    "import pandas as pd"
   ]
  },
  {
   "cell_type": "code",
   "execution_count": 3,
   "id": "elegant-comparative",
   "metadata": {},
   "outputs": [
    {
     "data": {
      "text/html": [
       "<div>\n",
       "<style scoped>\n",
       "    .dataframe tbody tr th:only-of-type {\n",
       "        vertical-align: middle;\n",
       "    }\n",
       "\n",
       "    .dataframe tbody tr th {\n",
       "        vertical-align: top;\n",
       "    }\n",
       "\n",
       "    .dataframe thead th {\n",
       "        text-align: right;\n",
       "    }\n",
       "</style>\n",
       "<table border=\"1\" class=\"dataframe\">\n",
       "  <thead>\n",
       "    <tr style=\"text-align: right;\">\n",
       "      <th></th>\n",
       "      <th>SNo</th>\n",
       "      <th>ObservationDate</th>\n",
       "      <th>Province/State</th>\n",
       "      <th>Country/Region</th>\n",
       "      <th>Last Update</th>\n",
       "      <th>Confirmed</th>\n",
       "      <th>Deaths</th>\n",
       "      <th>Recovered</th>\n",
       "    </tr>\n",
       "  </thead>\n",
       "  <tbody>\n",
       "    <tr>\n",
       "      <th>0</th>\n",
       "      <td>1</td>\n",
       "      <td>1/22/2020</td>\n",
       "      <td>Anhui</td>\n",
       "      <td>Mainland China</td>\n",
       "      <td>1/22/2020 17:00</td>\n",
       "      <td>1</td>\n",
       "      <td>0</td>\n",
       "      <td>0</td>\n",
       "    </tr>\n",
       "    <tr>\n",
       "      <th>1</th>\n",
       "      <td>2</td>\n",
       "      <td>1/22/2020</td>\n",
       "      <td>Beijing</td>\n",
       "      <td>Mainland China</td>\n",
       "      <td>1/22/2020 17:00</td>\n",
       "      <td>14</td>\n",
       "      <td>0</td>\n",
       "      <td>0</td>\n",
       "    </tr>\n",
       "    <tr>\n",
       "      <th>2</th>\n",
       "      <td>3</td>\n",
       "      <td>1/22/2020</td>\n",
       "      <td>Chongqing</td>\n",
       "      <td>Mainland China</td>\n",
       "      <td>1/22/2020 17:00</td>\n",
       "      <td>6</td>\n",
       "      <td>0</td>\n",
       "      <td>0</td>\n",
       "    </tr>\n",
       "    <tr>\n",
       "      <th>3</th>\n",
       "      <td>4</td>\n",
       "      <td>1/22/2020</td>\n",
       "      <td>Fujian</td>\n",
       "      <td>Mainland China</td>\n",
       "      <td>1/22/2020 17:00</td>\n",
       "      <td>1</td>\n",
       "      <td>0</td>\n",
       "      <td>0</td>\n",
       "    </tr>\n",
       "    <tr>\n",
       "      <th>4</th>\n",
       "      <td>5</td>\n",
       "      <td>1/22/2020</td>\n",
       "      <td>Gansu</td>\n",
       "      <td>Mainland China</td>\n",
       "      <td>1/22/2020 17:00</td>\n",
       "      <td>0</td>\n",
       "      <td>0</td>\n",
       "      <td>0</td>\n",
       "    </tr>\n",
       "  </tbody>\n",
       "</table>\n",
       "</div>"
      ],
      "text/plain": [
       "   SNo ObservationDate Province/State  Country/Region      Last Update  \\\n",
       "0    1       1/22/2020          Anhui  Mainland China  1/22/2020 17:00   \n",
       "1    2       1/22/2020        Beijing  Mainland China  1/22/2020 17:00   \n",
       "2    3       1/22/2020      Chongqing  Mainland China  1/22/2020 17:00   \n",
       "3    4       1/22/2020         Fujian  Mainland China  1/22/2020 17:00   \n",
       "4    5       1/22/2020          Gansu  Mainland China  1/22/2020 17:00   \n",
       "\n",
       "   Confirmed  Deaths  Recovered  \n",
       "0          1       0          0  \n",
       "1         14       0          0  \n",
       "2          6       0          0  \n",
       "3          1       0          0  \n",
       "4          0       0          0  "
      ]
     },
     "execution_count": 3,
     "metadata": {},
     "output_type": "execute_result"
    }
   ],
   "source": [
    "df = pd.read_csv(\"covid_19_data.csv\")\n",
    "df.head()"
   ]
  },
  {
   "cell_type": "code",
   "execution_count": 4,
   "id": "center-northern",
   "metadata": {},
   "outputs": [
    {
     "name": "stdout",
     "output_type": "stream",
     "text": [
      "<class 'pandas.core.frame.DataFrame'>\n",
      "RangeIndex: 6162 entries, 0 to 6161\n",
      "Data columns (total 8 columns):\n",
      " #   Column           Non-Null Count  Dtype \n",
      "---  ------           --------------  ----- \n",
      " 0   SNo              6162 non-null   int64 \n",
      " 1   ObservationDate  6162 non-null   object\n",
      " 2   Province/State   3700 non-null   object\n",
      " 3   Country/Region   6162 non-null   object\n",
      " 4   Last Update      6162 non-null   object\n",
      " 5   Confirmed        6162 non-null   int64 \n",
      " 6   Deaths           6162 non-null   int64 \n",
      " 7   Recovered        6162 non-null   int64 \n",
      "dtypes: int64(4), object(4)\n",
      "memory usage: 385.2+ KB\n"
     ]
    }
   ],
   "source": [
    "df.info()"
   ]
  },
  {
   "cell_type": "code",
   "execution_count": 7,
   "id": "atomic-boundary",
   "metadata": {},
   "outputs": [
    {
     "data": {
      "text/html": [
       "<div>\n",
       "<style scoped>\n",
       "    .dataframe tbody tr th:only-of-type {\n",
       "        vertical-align: middle;\n",
       "    }\n",
       "\n",
       "    .dataframe tbody tr th {\n",
       "        vertical-align: top;\n",
       "    }\n",
       "\n",
       "    .dataframe thead th {\n",
       "        text-align: right;\n",
       "    }\n",
       "</style>\n",
       "<table border=\"1\" class=\"dataframe\">\n",
       "  <thead>\n",
       "    <tr style=\"text-align: right;\">\n",
       "      <th></th>\n",
       "      <th>Date</th>\n",
       "      <th>Province</th>\n",
       "      <th>Country</th>\n",
       "      <th>Confirmed</th>\n",
       "      <th>Deaths</th>\n",
       "      <th>Recovered</th>\n",
       "    </tr>\n",
       "  </thead>\n",
       "  <tbody>\n",
       "    <tr>\n",
       "      <th>0</th>\n",
       "      <td>1/22/2020</td>\n",
       "      <td>Anhui</td>\n",
       "      <td>Mainland China</td>\n",
       "      <td>1</td>\n",
       "      <td>0</td>\n",
       "      <td>0</td>\n",
       "    </tr>\n",
       "    <tr>\n",
       "      <th>1</th>\n",
       "      <td>1/22/2020</td>\n",
       "      <td>Beijing</td>\n",
       "      <td>Mainland China</td>\n",
       "      <td>14</td>\n",
       "      <td>0</td>\n",
       "      <td>0</td>\n",
       "    </tr>\n",
       "    <tr>\n",
       "      <th>2</th>\n",
       "      <td>1/22/2020</td>\n",
       "      <td>Chongqing</td>\n",
       "      <td>Mainland China</td>\n",
       "      <td>6</td>\n",
       "      <td>0</td>\n",
       "      <td>0</td>\n",
       "    </tr>\n",
       "  </tbody>\n",
       "</table>\n",
       "</div>"
      ],
      "text/plain": [
       "        Date   Province         Country  Confirmed  Deaths  Recovered\n",
       "0  1/22/2020      Anhui  Mainland China          1       0          0\n",
       "1  1/22/2020    Beijing  Mainland China         14       0          0\n",
       "2  1/22/2020  Chongqing  Mainland China          6       0          0"
      ]
     },
     "execution_count": 7,
     "metadata": {},
     "output_type": "execute_result"
    }
   ],
   "source": [
    "df.drop([\"SNo\",\"Last Update\"],axis=1,inplace=True)\n",
    "df.rename(columns = {\"ObservationDate\" : \"Date\",\n",
    "                    \"Province/State\" : \"Province\",\n",
    "                    \"Country/Region\" : \"Country\"},inplace=True) \n",
    "df.head(3)"
   ]
  },
  {
   "cell_type": "code",
   "execution_count": 8,
   "id": "manufactured-tribune",
   "metadata": {},
   "outputs": [
    {
     "data": {
      "text/plain": [
       "dtype('<M8[ns]')"
      ]
     },
     "execution_count": 8,
     "metadata": {},
     "output_type": "execute_result"
    }
   ],
   "source": [
    "df[\"Date\"] = pd.to_datetime(df[\"Date\"])\n",
    "df['Date'].dtype"
   ]
  },
  {
   "cell_type": "code",
   "execution_count": 9,
   "id": "familiar-salad",
   "metadata": {},
   "outputs": [
    {
     "data": {
      "text/html": [
       "<div>\n",
       "<style scoped>\n",
       "    .dataframe tbody tr th:only-of-type {\n",
       "        vertical-align: middle;\n",
       "    }\n",
       "\n",
       "    .dataframe tbody tr th {\n",
       "        vertical-align: top;\n",
       "    }\n",
       "\n",
       "    .dataframe thead th {\n",
       "        text-align: right;\n",
       "    }\n",
       "</style>\n",
       "<table border=\"1\" class=\"dataframe\">\n",
       "  <thead>\n",
       "    <tr style=\"text-align: right;\">\n",
       "      <th></th>\n",
       "      <th>Confirmed</th>\n",
       "      <th>Deaths</th>\n",
       "      <th>Recovered</th>\n",
       "    </tr>\n",
       "  </thead>\n",
       "  <tbody>\n",
       "    <tr>\n",
       "      <th>count</th>\n",
       "      <td>6162.000000</td>\n",
       "      <td>6162.000000</td>\n",
       "      <td>6162.000000</td>\n",
       "    </tr>\n",
       "    <tr>\n",
       "      <th>mean</th>\n",
       "      <td>588.957481</td>\n",
       "      <td>18.960240</td>\n",
       "      <td>220.271503</td>\n",
       "    </tr>\n",
       "    <tr>\n",
       "      <th>std</th>\n",
       "      <td>4908.724815</td>\n",
       "      <td>198.962911</td>\n",
       "      <td>2466.089672</td>\n",
       "    </tr>\n",
       "    <tr>\n",
       "      <th>min</th>\n",
       "      <td>0.000000</td>\n",
       "      <td>0.000000</td>\n",
       "      <td>0.000000</td>\n",
       "    </tr>\n",
       "    <tr>\n",
       "      <th>25%</th>\n",
       "      <td>2.000000</td>\n",
       "      <td>0.000000</td>\n",
       "      <td>0.000000</td>\n",
       "    </tr>\n",
       "    <tr>\n",
       "      <th>50%</th>\n",
       "      <td>11.000000</td>\n",
       "      <td>0.000000</td>\n",
       "      <td>0.000000</td>\n",
       "    </tr>\n",
       "    <tr>\n",
       "      <th>75%</th>\n",
       "      <td>100.000000</td>\n",
       "      <td>1.000000</td>\n",
       "      <td>12.000000</td>\n",
       "    </tr>\n",
       "    <tr>\n",
       "      <th>max</th>\n",
       "      <td>67798.000000</td>\n",
       "      <td>3099.000000</td>\n",
       "      <td>55142.000000</td>\n",
       "    </tr>\n",
       "  </tbody>\n",
       "</table>\n",
       "</div>"
      ],
      "text/plain": [
       "          Confirmed       Deaths     Recovered\n",
       "count   6162.000000  6162.000000   6162.000000\n",
       "mean     588.957481    18.960240    220.271503\n",
       "std     4908.724815   198.962911   2466.089672\n",
       "min        0.000000     0.000000      0.000000\n",
       "25%        2.000000     0.000000      0.000000\n",
       "50%       11.000000     0.000000      0.000000\n",
       "75%      100.000000     1.000000     12.000000\n",
       "max    67798.000000  3099.000000  55142.000000"
      ]
     },
     "execution_count": 9,
     "metadata": {},
     "output_type": "execute_result"
    }
   ],
   "source": [
    "df.describe()"
   ]
  },
  {
   "cell_type": "code",
   "execution_count": 11,
   "id": "modular-music",
   "metadata": {},
   "outputs": [
    {
     "data": {
      "text/plain": [
       "Date         0\n",
       "Province     0\n",
       "Country      0\n",
       "Confirmed    0\n",
       "Deaths       0\n",
       "Recovered    0\n",
       "dtype: int64"
      ]
     },
     "execution_count": 11,
     "metadata": {},
     "output_type": "execute_result"
    }
   ],
   "source": [
    "df = df.fillna(\"NA\")\n",
    "df.isna().sum()"
   ]
  },
  {
   "cell_type": "code",
   "execution_count": 15,
   "id": "tired-dispute",
   "metadata": {
    "scrolled": true
   },
   "outputs": [
    {
     "data": {
      "text/html": [
       "<div>\n",
       "<style scoped>\n",
       "    .dataframe tbody tr th:only-of-type {\n",
       "        vertical-align: middle;\n",
       "    }\n",
       "\n",
       "    .dataframe tbody tr th {\n",
       "        vertical-align: top;\n",
       "    }\n",
       "\n",
       "    .dataframe thead th {\n",
       "        text-align: right;\n",
       "    }\n",
       "</style>\n",
       "<table border=\"1\" class=\"dataframe\">\n",
       "  <thead>\n",
       "    <tr style=\"text-align: right;\">\n",
       "      <th></th>\n",
       "      <th>Confirmed</th>\n",
       "      <th>Deaths</th>\n",
       "      <th>Recovered</th>\n",
       "    </tr>\n",
       "    <tr>\n",
       "      <th>Country</th>\n",
       "      <th></th>\n",
       "      <th></th>\n",
       "      <th></th>\n",
       "    </tr>\n",
       "  </thead>\n",
       "  <tbody>\n",
       "    <tr>\n",
       "      <th>Azerbaijan</th>\n",
       "      <td>1</td>\n",
       "      <td>0</td>\n",
       "      <td>0</td>\n",
       "    </tr>\n",
       "    <tr>\n",
       "      <th>('St. Martin',)</th>\n",
       "      <td>2</td>\n",
       "      <td>0</td>\n",
       "      <td>0</td>\n",
       "    </tr>\n",
       "    <tr>\n",
       "      <th>Afghanistan</th>\n",
       "      <td>95</td>\n",
       "      <td>0</td>\n",
       "      <td>1</td>\n",
       "    </tr>\n",
       "    <tr>\n",
       "      <th>Albania</th>\n",
       "      <td>211</td>\n",
       "      <td>6</td>\n",
       "      <td>0</td>\n",
       "    </tr>\n",
       "    <tr>\n",
       "      <th>Algeria</th>\n",
       "      <td>340</td>\n",
       "      <td>14</td>\n",
       "      <td>52</td>\n",
       "    </tr>\n",
       "    <tr>\n",
       "      <th>...</th>\n",
       "      <td>...</td>\n",
       "      <td>...</td>\n",
       "      <td>...</td>\n",
       "    </tr>\n",
       "    <tr>\n",
       "      <th>Uzbekistan</th>\n",
       "      <td>7</td>\n",
       "      <td>0</td>\n",
       "      <td>0</td>\n",
       "    </tr>\n",
       "    <tr>\n",
       "      <th>Vatican City</th>\n",
       "      <td>4</td>\n",
       "      <td>0</td>\n",
       "      <td>0</td>\n",
       "    </tr>\n",
       "    <tr>\n",
       "      <th>Venezuela</th>\n",
       "      <td>29</td>\n",
       "      <td>0</td>\n",
       "      <td>0</td>\n",
       "    </tr>\n",
       "    <tr>\n",
       "      <th>Vietnam</th>\n",
       "      <td>915</td>\n",
       "      <td>0</td>\n",
       "      <td>470</td>\n",
       "    </tr>\n",
       "    <tr>\n",
       "      <th>occupied Palestinian territory</th>\n",
       "      <td>25</td>\n",
       "      <td>0</td>\n",
       "      <td>0</td>\n",
       "    </tr>\n",
       "  </tbody>\n",
       "</table>\n",
       "<p>171 rows × 3 columns</p>\n",
       "</div>"
      ],
      "text/plain": [
       "                                Confirmed  Deaths  Recovered\n",
       "Country                                                     \n",
       " Azerbaijan                             1       0          0\n",
       "('St. Martin',)                         2       0          0\n",
       "Afghanistan                            95       0          1\n",
       "Albania                               211       6          0\n",
       "Algeria                               340      14         52\n",
       "...                                   ...     ...        ...\n",
       "Uzbekistan                              7       0          0\n",
       "Vatican City                            4       0          0\n",
       "Venezuela                              29       0          0\n",
       "Vietnam                               915       0        470\n",
       "occupied Palestinian territory         25       0          0\n",
       "\n",
       "[171 rows x 3 columns]"
      ]
     },
     "execution_count": 15,
     "metadata": {},
     "output_type": "execute_result"
    }
   ],
   "source": [
    "# I Would like to group by the data now \n",
    "df2 = df.groupby(\"Country\")[[\"Country\",\"Confirmed\",\"Deaths\",\"Recovered\"]].sum()\n",
    "df2"
   ]
  },
  {
   "cell_type": "code",
   "execution_count": 17,
   "id": "elementary-conflict",
   "metadata": {},
   "outputs": [
    {
     "data": {
      "text/html": [
       "<div>\n",
       "<style scoped>\n",
       "    .dataframe tbody tr th:only-of-type {\n",
       "        vertical-align: middle;\n",
       "    }\n",
       "\n",
       "    .dataframe tbody tr th {\n",
       "        vertical-align: top;\n",
       "    }\n",
       "\n",
       "    .dataframe thead th {\n",
       "        text-align: right;\n",
       "    }\n",
       "</style>\n",
       "<table border=\"1\" class=\"dataframe\">\n",
       "  <thead>\n",
       "    <tr style=\"text-align: right;\">\n",
       "      <th></th>\n",
       "      <th></th>\n",
       "      <th>Confirmed</th>\n",
       "      <th>Recovered</th>\n",
       "    </tr>\n",
       "    <tr>\n",
       "      <th>Country</th>\n",
       "      <th>Date</th>\n",
       "      <th></th>\n",
       "      <th></th>\n",
       "    </tr>\n",
       "  </thead>\n",
       "  <tbody>\n",
       "    <tr>\n",
       "      <th>Azerbaijan</th>\n",
       "      <th>2020-02-28</th>\n",
       "      <td>1</td>\n",
       "      <td>0</td>\n",
       "    </tr>\n",
       "    <tr>\n",
       "      <th>('St. Martin',)</th>\n",
       "      <th>2020-03-10</th>\n",
       "      <td>2</td>\n",
       "      <td>0</td>\n",
       "    </tr>\n",
       "    <tr>\n",
       "      <th rowspan=\"3\" valign=\"top\">Afghanistan</th>\n",
       "      <th>2020-02-24</th>\n",
       "      <td>1</td>\n",
       "      <td>0</td>\n",
       "    </tr>\n",
       "    <tr>\n",
       "      <th>2020-02-25</th>\n",
       "      <td>1</td>\n",
       "      <td>0</td>\n",
       "    </tr>\n",
       "    <tr>\n",
       "      <th>2020-02-26</th>\n",
       "      <td>1</td>\n",
       "      <td>0</td>\n",
       "    </tr>\n",
       "    <tr>\n",
       "      <th>...</th>\n",
       "      <th>...</th>\n",
       "      <td>...</td>\n",
       "      <td>...</td>\n",
       "    </tr>\n",
       "    <tr>\n",
       "      <th rowspan=\"5\" valign=\"top\">occupied Palestinian territory</th>\n",
       "      <th>2020-03-11</th>\n",
       "      <td>0</td>\n",
       "      <td>0</td>\n",
       "    </tr>\n",
       "    <tr>\n",
       "      <th>2020-03-12</th>\n",
       "      <td>0</td>\n",
       "      <td>0</td>\n",
       "    </tr>\n",
       "    <tr>\n",
       "      <th>2020-03-14</th>\n",
       "      <td>0</td>\n",
       "      <td>0</td>\n",
       "    </tr>\n",
       "    <tr>\n",
       "      <th>2020-03-15</th>\n",
       "      <td>0</td>\n",
       "      <td>0</td>\n",
       "    </tr>\n",
       "    <tr>\n",
       "      <th>2020-03-16</th>\n",
       "      <td>0</td>\n",
       "      <td>0</td>\n",
       "    </tr>\n",
       "  </tbody>\n",
       "</table>\n",
       "<p>2902 rows × 2 columns</p>\n",
       "</div>"
      ],
      "text/plain": [
       "                                           Confirmed  Recovered\n",
       "Country                        Date                            \n",
       " Azerbaijan                    2020-02-28          1          0\n",
       "('St. Martin',)                2020-03-10          2          0\n",
       "Afghanistan                    2020-02-24          1          0\n",
       "                               2020-02-25          1          0\n",
       "                               2020-02-26          1          0\n",
       "...                                              ...        ...\n",
       "occupied Palestinian territory 2020-03-11          0          0\n",
       "                               2020-03-12          0          0\n",
       "                               2020-03-14          0          0\n",
       "                               2020-03-15          0          0\n",
       "                               2020-03-16          0          0\n",
       "\n",
       "[2902 rows x 2 columns]"
      ]
     },
     "execution_count": 17,
     "metadata": {},
     "output_type": "execute_result"
    }
   ],
   "source": [
    "df2 = df.groupby(['Country',\"Date\"])[[\"Country\",\"Date\",\"Confirmed\",\"Recovered\"]].sum()\n",
    "df2"
   ]
  },
  {
   "cell_type": "code",
   "execution_count": 19,
   "id": "dynamic-thesis",
   "metadata": {},
   "outputs": [
    {
     "data": {
      "text/html": [
       "<div>\n",
       "<style scoped>\n",
       "    .dataframe tbody tr th:only-of-type {\n",
       "        vertical-align: middle;\n",
       "    }\n",
       "\n",
       "    .dataframe tbody tr th {\n",
       "        vertical-align: top;\n",
       "    }\n",
       "\n",
       "    .dataframe thead th {\n",
       "        text-align: right;\n",
       "    }\n",
       "</style>\n",
       "<table border=\"1\" class=\"dataframe\">\n",
       "  <thead>\n",
       "    <tr style=\"text-align: right;\">\n",
       "      <th></th>\n",
       "      <th></th>\n",
       "      <th>Confirmed</th>\n",
       "      <th>Recovered</th>\n",
       "    </tr>\n",
       "    <tr>\n",
       "      <th>Country</th>\n",
       "      <th>Date</th>\n",
       "      <th></th>\n",
       "      <th></th>\n",
       "    </tr>\n",
       "  </thead>\n",
       "  <tbody>\n",
       "    <tr>\n",
       "      <th rowspan=\"5\" valign=\"top\">Australia</th>\n",
       "      <th>2020-03-10</th>\n",
       "      <td>107</td>\n",
       "      <td>21</td>\n",
       "    </tr>\n",
       "    <tr>\n",
       "      <th>2020-03-11</th>\n",
       "      <td>128</td>\n",
       "      <td>21</td>\n",
       "    </tr>\n",
       "    <tr>\n",
       "      <th>2020-03-12</th>\n",
       "      <td>128</td>\n",
       "      <td>21</td>\n",
       "    </tr>\n",
       "    <tr>\n",
       "      <th>2020-03-13</th>\n",
       "      <td>200</td>\n",
       "      <td>23</td>\n",
       "    </tr>\n",
       "    <tr>\n",
       "      <th>2020-03-14</th>\n",
       "      <td>250</td>\n",
       "      <td>23</td>\n",
       "    </tr>\n",
       "  </tbody>\n",
       "</table>\n",
       "</div>"
      ],
      "text/plain": [
       "                      Confirmed  Recovered\n",
       "Country   Date                            \n",
       "Australia 2020-03-10        107         21\n",
       "          2020-03-11        128         21\n",
       "          2020-03-12        128         21\n",
       "          2020-03-13        200         23\n",
       "          2020-03-14        250         23"
      ]
     },
     "execution_count": 19,
     "metadata": {},
     "output_type": "execute_result"
    }
   ],
   "source": [
    "df3 = df2[df2[\"Confirmed\"] > 100]\n",
    "df3.head()"
   ]
  },
  {
   "cell_type": "markdown",
   "id": "rational-packing",
   "metadata": {},
   "source": [
    "## Matplotlib\n",
    "#### Used For Plotting But remember to always ask questions first"
   ]
  },
  {
   "cell_type": "code",
   "execution_count": 29,
   "id": "informal-thunder",
   "metadata": {},
   "outputs": [],
   "source": [
    "import numpy as np\n",
    "import matplotlib.pyplot as plt\n",
    "x = np.linspace(0,10,1000)\n",
    "y = np.sin(x)"
   ]
  },
  {
   "cell_type": "code",
   "execution_count": 30,
   "id": "sublime-composite",
   "metadata": {},
   "outputs": [
    {
     "data": {
      "text/plain": [
       "[<matplotlib.lines.Line2D at 0x22369531ba8>]"
      ]
     },
     "execution_count": 30,
     "metadata": {},
     "output_type": "execute_result"
    },
    {
     "data": {
      "image/png": "[encoded data removed]",
      "text/plain": [
       "<Figure size 432x288 with 1 Axes>"
      ]
     },
     "metadata": {
      "needs_background": "light"
     },
     "output_type": "display_data"
    }
   ],
   "source": [
    "plt.plot(x,y)"
   ]
  },
  {
   "cell_type": "code",
   "execution_count": 33,
   "id": "original-soldier",
   "metadata": {},
   "outputs": [
    {
     "data": {
      "text/plain": [
       "<matplotlib.collections.PathCollection at 0x223698fc240>"
      ]
     },
     "execution_count": 33,
     "metadata": {},
     "output_type": "execute_result"
    },
    {
     "data": {
      "image/png": "[encoded data removed]",
      "text/plain": [
       "<Figure size 432x288 with 1 Axes>"
      ]
     },
     "metadata": {
      "needs_background": "light"
     },
     "output_type": "display_data"
    }
   ],
   "source": [
    "plt.scatter(x[::10],y[::10],color=\"red\")"
   ]
  },
  {
   "cell_type": "code",
   "execution_count": 34,
   "id": "academic-association",
   "metadata": {},
   "outputs": [
    {
     "data": {
      "text/plain": [
       "[<matplotlib.lines.Line2D at 0x22369960f60>]"
      ]
     },
     "execution_count": 34,
     "metadata": {},
     "output_type": "execute_result"
    },
    {
     "data": {
      "image/png": "[encoded data removed]",
      "text/plain": [
       "<Figure size 432x288 with 1 Axes>"
      ]
     },
     "metadata": {
      "needs_background": "light"
     },
     "output_type": "display_data"
    }
   ],
   "source": [
    "plt.plot(x,y,color=\"r\")\n",
    "plt.plot(x,np.cos(x),color='g')"
   ]
  }
 ],
 "metadata": {
  "kernelspec": {
   "display_name": "Python 3",
   "language": "python",
   "name": "python3"
  },
  "language_info": {
   "codemirror_mode": {
    "name": "ipython",
    "version": 3
   },
   "file_extension": ".py",
   "mimetype": "text/x-python",
   "name": "python",
   "nbconvert_exporter": "python",
   "pygments_lexer": "ipython3",
   "version": "3.6.12"
  }
 },
 "nbformat": 4,
 "nbformat_minor": 5
}
